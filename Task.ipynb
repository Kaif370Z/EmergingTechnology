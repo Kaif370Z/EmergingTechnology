{
 "cells": [
  {
   "cell_type": "markdown",
   "metadata": {},
   "source": [
    "# Task 1 Collatz Problem"
   ]
  },
  {
   "cell_type": "code",
   "execution_count": 3,
   "metadata": {},
   "outputs": [
    {
     "ename": "SyntaxError",
     "evalue": "(unicode error) 'unicodeescape' codec can't decode bytes in position 2-3: truncated \\UXXXXXXXX escape (73771669.py, line 3)",
     "output_type": "error",
     "traceback": [
      "\u001b[1;36m  File \u001b[1;32m\"C:\\Users\\kaift\\AppData\\Local\\Temp\\ipykernel_29464\\73771669.py\"\u001b[1;36m, line \u001b[1;32m3\u001b[0m\n\u001b[1;33m    image_path = \"C:\\Users\\kaift\\OneDrive - Atlantic TU\\Emerging Technology\\Images\\Collatz.png\"\u001b[0m\n\u001b[1;37m                                                                                               ^\u001b[0m\n\u001b[1;31mSyntaxError\u001b[0m\u001b[1;31m:\u001b[0m (unicode error) 'unicodeescape' codec can't decode bytes in position 2-3: truncated \\UXXXXXXXX escape\n"
     ]
    }
   ],
   "source": [
    "from IPython.display import Image\n",
    "\n",
    "image_path = \"C:\\Users\\kaift\\OneDrive - Atlantic TU\\Emerging Technology\\Images\\Collatz.png\"\n",
    "\n",
    "Image(filename=image_path)"
   ]
  },
  {
   "cell_type": "markdown",
   "metadata": {},
   "source": [
    "The Collatz conjecture, or the \"3n+1 problem,\" is one we're still waiting to see solved. Introduced in 1937 by German mathematician Lothar Collatz, the Collatz conjecture is a seemingly straightforward question with a surprisingly elusive answer. The conjecture posits that if you repeat two simple arithmetic operations, you will eventually end up transforming every positive integer into the number one. The problem is that it has not yet been proven to be true for all integers. Maybe with some number the sequence gallops off into infinity. [[1]](https://science.howstuffworks.com/math-concepts/collatz-conjecture.htm)"
   ]
  },
  {
   "cell_type": "code",
   "execution_count": null,
   "metadata": {},
   "outputs": [],
   "source": [
    "def collatz_sequence(n):\n",
    "    sequence = [n]\n",
    "    while n != 1:\n",
    "        if n % 2 == 0:\n",
    "            n = n // 2\n",
    "        else:\n",
    "            n = 3 * n + 1\n",
    "        sequence.append(n)\n",
    "    return sequence\n",
    "\n",
    "def verify_collatz_conjecture(limit):\n",
    "    for i in range(1, limit + 1):\n",
    "        sequence = collatz_sequence(i)\n",
    "        if sequence[-1] != 1:\n",
    "            print(f\"Collatz conjecture not satisfied for {i}\")\n",
    "            return\n",
    "    print(\"Collatz conjecture is true for the first\", limit, \"positive integers.\")\n",
    "\n",
    "# Verify for the first 10,000 positive integers\n",
    "verify_collatz_conjecture(10000)\n"
   ]
  },
  {
   "cell_type": "markdown",
   "metadata": {},
   "source": [
    "This Python code defines two functions:\n",
    "\n",
    "1. collatz_sequence(n) computes the Collatz sequence starting from a given positive integer n and returns the sequence as a list.\n",
    "\n",
    "2. verify_collatz_conjecture(limit) iterates through the first limit positive integers, computes their Collatz sequences, and checks if each sequence ends with the number 1. If any sequence does not end with 1, it prints the number for which the conjecture is not satisfied.\n",
    "\n",
    "When you run this code with verify_collatz_conjecture(10000), it will check the Collatz conjecture for the first 10,000 positive integers and print a message indicating whether the conjecture is true for each of them."
   ]
  }
 ],
 "metadata": {
  "kernelspec": {
   "display_name": "base",
   "language": "python",
   "name": "python3"
  },
  "language_info": {
   "codemirror_mode": {
    "name": "ipython",
    "version": 3
   },
   "file_extension": ".py",
   "mimetype": "text/x-python",
   "name": "python",
   "nbconvert_exporter": "python",
   "pygments_lexer": "ipython3",
   "version": "3.9.13"
  }
 },
 "nbformat": 4,
 "nbformat_minor": 2
}
